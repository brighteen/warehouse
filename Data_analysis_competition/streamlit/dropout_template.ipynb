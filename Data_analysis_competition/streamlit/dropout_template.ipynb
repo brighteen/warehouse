{
 "cells": [
  {
   "cell_type": "code",
   "execution_count": 1,
   "id": "2ba88ab5",
   "metadata": {
    "tags": [
     "parameters"
    ]
   },
   "outputs": [],
   "source": [
    "# Parameters\n",
    "year = 2021\n",
    "input_file = f\"data/{year}_중도탈락 학생 현황 (대학).xlsx\""
   ]
  },
  {
   "cell_type": "code",
   "execution_count": null,
   "id": "125cc201",
   "metadata": {},
   "outputs": [],
   "source": [
    "from IPython.display import Markdown, display\n",
    "display(Markdown(r'''\n",
    "## 📊 중도탈락 분석 리포트 - {year}년\n",
    "이 보고서는 해당 연도 대학의 중도탈락 현황 데이터를 분석하여 자퇴율, 상관관계, 주요 탈락 사유를 시각화하고 인사이트를 도출합니다.\n",
    "'''))"
   ]
  },
  {
   "cell_type": "code",
   "execution_count": null,
   "id": "1f0d729e",
   "metadata": {},
   "outputs": [],
   "source": [
    "display(Markdown(r'''\n",
    "### 🧹 데이터 전처리 단계\n",
    "- 열 이름 정리  \n",
    "- 수치형 변환  \n",
    "- 자퇴율 계산 추가\n",
    "'''))\n"
   ]
  },
  {
   "cell_type": "code",
   "execution_count": null,
   "id": "7e3dfde1",
   "metadata": {},
   "outputs": [
    {
     "data": {
      "text/plain": [
       "28"
      ]
     },
     "execution_count": 5,
     "metadata": {},
     "output_type": "execute_result"
    }
   ],
   "source": [
    "import pandas as pd\n",
    "import matplotlib.pyplot as plt\n",
    "import seaborn as sns\n",
    "from IPython.display import display, Markdown\n",
    "import os\n",
    "\n",
    "plt.rcParams['font.family'] = 'Malgun Gothic'\n",
    "plt.rcParams['axes.unicode_minus'] = False\n",
    "\n",
    "df = pd.read_excel(input_file)\n",
    "\n",
    "df.columns = [\n",
    "    '기준연도', '학교종류', '설립구분', '지역', '상태', '학교', '재적학생수_A',\n",
    "    '중도탈락_계', '중도탈락_미등록', '중도탈락_미복학', '중도탈락_자퇴', '중도탈락_학사경고',\n",
    "    '중도탈락_학생활동', '중도탈락_유급제적', '중도탈락_수업연한초과', '중도탈락_기타',\n",
    "    '중도탈락비율(%)_기존생', '재적학생수_신입생_Ap',\n",
    "    '중도탈락_계_신입생', '중도탈락_미등록_신입생', '중도탈락_미복학_신입생', '중도탈락_자퇴_신입생',\n",
    "    '중도탈락_학사경고_신입생', '중도탈락_학생활동_신입생', '중도탈락_유급제적_신입생',\n",
    "    '중도탈락_수업연한초과_신입생', '중도탈락_기타_신입생', '중도탈락비율(%)_신입생'\n",
    "]\n",
    "\n",
    "numeric_cols = [col for col in df.columns if '중도탈락' in col or '재적학생수' in col]\n",
    "for col in numeric_cols:\n",
    "    df[col] = pd.to_numeric(df[col], errors='coerce')\n",
    "\n",
    "df = df.dropna(how='all').reset_index(drop=True)\n",
    "df['자퇴율'] = df['중도탈락_자퇴'] / df['재적학생수_A'] * 100\n"
   ]
  },
  {
   "cell_type": "code",
   "execution_count": null,
   "id": "9d055406",
   "metadata": {},
   "outputs": [],
   "source": [
    "display(Markdown(\"### 🔍 자퇴율 상/하위 5개 대학\"))\n"
   ]
  },
  {
   "cell_type": "code",
   "execution_count": null,
   "id": "f1a7a0e9",
   "metadata": {},
   "outputs": [],
   "source": [
    "top5 = df.sort_values('자퇴율', ascending=False).head(5)\n",
    "bottom5 = df.sort_values('자퇴율', ascending=True).head(5)\n",
    "\n",
    "display(Markdown(\"#### 자퇴율 상위 5개 대학\"))\n",
    "display(top5[['학교', '자퇴율']])\n",
    "\n",
    "display(Markdown(\"#### 자퇴율 하위 5개 대학\"))\n",
    "display(bottom5[['학교', '자퇴율']])\n"
   ]
  },
  {
   "cell_type": "code",
   "execution_count": null,
   "id": "1a27438d",
   "metadata": {},
   "outputs": [],
   "source": [
    "display(Markdown(\"### 📈 중도탈락 관련 상관관계 분석\"))"
   ]
  },
  {
   "cell_type": "code",
   "execution_count": null,
   "id": "25664b97",
   "metadata": {},
   "outputs": [],
   "source": [
    "correlation_cols = [col for col in df.columns if '중도탈락' in col or '자퇴율' in col or '재적학생수' in col]\n",
    "corr = df[correlation_cols].corr()\n",
    "\n",
    "plt.figure(figsize=(12, 8))\n",
    "sns.heatmap(corr, cmap='coolwarm', center=0)\n",
    "plt.title(f'{year}년도 중도탈락 상관관계 히트맵')\n",
    "plt.tight_layout()\n",
    "plt.show()\n"
   ]
  },
  {
   "cell_type": "code",
   "execution_count": null,
   "id": "2e2009bf",
   "metadata": {},
   "outputs": [],
   "source": [
    "display(Markdown(\"### 📊 중도탈락 사유 비율 분석 (재적학생 / 신입생)\"))\n"
   ]
  },
  {
   "cell_type": "code",
   "execution_count": null,
   "id": "f33efae6",
   "metadata": {},
   "outputs": [],
   "source": [
    "reason_cols = ['중도탈락_미등록', '중도탈락_미복학', '중도탈락_자퇴', '중도탈락_학사경고',\n",
    "               '중도탈락_학생활동', '중도탈락_유급제적', '중도탈락_수업연한초과', '중도탈락_기타']\n",
    "total = df['중도탈락_계'].sum()\n",
    "ratios = df[reason_cols].sum() / total * 100\n",
    "\n",
    "ratios.sort_values(ascending=False).plot(kind='bar', figsize=(10, 5))\n",
    "plt.title(f'{year}년 재적학생 중도탈락 사유 비율')\n",
    "plt.ylabel('%')\n",
    "plt.tight_layout()\n",
    "plt.show()\n",
    "\n",
    "new_cols = [col + '_신입생' for col in reason_cols]\n",
    "new_total = df['중도탈락_계_신입생'].sum()\n",
    "new_ratios = df[new_cols].sum() / new_total * 100\n",
    "\n",
    "new_ratios.sort_values(ascending=False).plot(kind='bar', figsize=(10, 5))\n",
    "plt.title(f'{year}년 신입생 중도탈락 사유 비율')\n",
    "plt.ylabel('%')\n",
    "plt.tight_layout()\n",
    "plt.show()\n"
   ]
  },
  {
   "cell_type": "code",
   "execution_count": null,
   "id": "dcfce9d8",
   "metadata": {},
   "outputs": [],
   "source": [
    "display(Markdown(r'''\n",
    "### ✅ 분석 요약 및 인사이트\n",
    "- 자퇴율 높은 대학은 학사경고, 자퇴 항목과 밀접한 상관관계를 가짐  \n",
    "- 신입생은 미등록, 자퇴, 유급 등의 요인 비중이 높음  \n",
    "- 학사 관리 및 상담 강화, 신입생 초기 지원 체계가 필요\n",
    "'''))\n"
   ]
  }
 ],
 "metadata": {
  "kernelspec": {
   "display_name": ".venv",
   "language": "python",
   "name": "python3"
  },
  "language_info": {
   "codemirror_mode": {
    "name": "ipython",
    "version": 3
   },
   "file_extension": ".py",
   "mimetype": "text/x-python",
   "name": "python",
   "nbconvert_exporter": "python",
   "pygments_lexer": "ipython3",
   "version": "3.11.9"
  }
 },
 "nbformat": 4,
 "nbformat_minor": 5
}
