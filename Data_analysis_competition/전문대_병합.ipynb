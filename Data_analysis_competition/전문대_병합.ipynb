{
 "cells": [
  {
   "cell_type": "code",
   "execution_count": 3,
   "id": "93a25245",
   "metadata": {},
   "outputs": [
    {
     "data": {
      "text/plain": [
       "(511, 10)"
      ]
     },
     "execution_count": 3,
     "metadata": {},
     "output_type": "execute_result"
    }
   ],
   "source": [
    "import pandas as pd\n",
    "\n",
    "# 새로 업로드된 세 파일을 불러오기\n",
    "file_paths = [\n",
    "    r'C:\\Users\\brigh\\Documents\\GitHub\\warehouse\\Data_analysis_competition\\ara_data\\data\\중도탈락 학생 현황_학교별평균값\\전처리 후\\2021_전문대_학교별.xlsx',\n",
    "    r'C:\\Users\\brigh\\Documents\\GitHub\\warehouse\\Data_analysis_competition\\ara_data\\data\\중도탈락 학생 현황_학교별평균값\\전처리 후\\2022_전문대_학교별.xlsx',\n",
    "    r'C:\\Users\\brigh\\Documents\\GitHub\\warehouse\\Data_analysis_competition\\ara_data\\data\\중도탈락 학생 현황_학교별평균값\\전처리 후\\2023_전문대_학교별.xlsx',\n",
    "]\n",
    "\n",
    "# 파일별로 데이터 읽어서 리스트에 저장\n",
    "df = [pd.read_excel(file) for file in file_paths]\n",
    "\n",
    "# 데이터프레임 결합 (세로 방향으로)\n",
    "df = pd.concat(df, ignore_index=True)\n",
    "\n",
    "df.shape"
   ]
  },
  {
   "cell_type": "code",
   "execution_count": 4,
   "id": "162f774c",
   "metadata": {},
   "outputs": [],
   "source": [
    "import matplotlib.pyplot as plt\n",
    "plt.rcParams['font.family'] ='Malgun Gothic'\n",
    "plt.rcParams['axes.unicode_minus'] =False"
   ]
  },
  {
   "cell_type": "code",
   "execution_count": 5,
   "id": "ef98865f",
   "metadata": {},
   "outputs": [
    {
     "name": "stdout",
     "output_type": "stream",
     "text": [
      "<class 'pandas.core.frame.DataFrame'>\n",
      "RangeIndex: 511 entries, 0 to 510\n",
      "Data columns (total 10 columns):\n",
      " #   Column      Non-Null Count  Dtype  \n",
      "---  ------      --------------  -----  \n",
      " 0   기준연도        511 non-null    int64  \n",
      " 1   학교종류        511 non-null    object \n",
      " 2   설립구분        511 non-null    object \n",
      " 3   지역          511 non-null    object \n",
      " 4   학교명         511 non-null    object \n",
      " 5   재적학생        511 non-null    int64  \n",
      " 6   자퇴학생        511 non-null    int64  \n",
      " 7   자퇴학생비율      511 non-null    float64\n",
      " 8   신입생_자퇴학생    511 non-null    int64  \n",
      " 9   신입생_자퇴학생비율  511 non-null    float64\n",
      "dtypes: float64(2), int64(4), object(4)\n",
      "memory usage: 40.1+ KB\n"
     ]
    }
   ],
   "source": [
    "df.info()"
   ]
  },
  {
   "cell_type": "code",
   "execution_count": 6,
   "id": "14828194",
   "metadata": {},
   "outputs": [
    {
     "data": {
      "text/html": [
       "<div>\n",
       "<style scoped>\n",
       "    .dataframe tbody tr th:only-of-type {\n",
       "        vertical-align: middle;\n",
       "    }\n",
       "\n",
       "    .dataframe tbody tr th {\n",
       "        vertical-align: top;\n",
       "    }\n",
       "\n",
       "    .dataframe thead th {\n",
       "        text-align: right;\n",
       "    }\n",
       "</style>\n",
       "<table border=\"1\" class=\"dataframe\">\n",
       "  <thead>\n",
       "    <tr style=\"text-align: right;\">\n",
       "      <th></th>\n",
       "      <th>기준연도</th>\n",
       "      <th>재적학생</th>\n",
       "      <th>자퇴학생</th>\n",
       "      <th>자퇴학생비율</th>\n",
       "      <th>신입생_자퇴학생</th>\n",
       "      <th>신입생_자퇴학생비율</th>\n",
       "    </tr>\n",
       "  </thead>\n",
       "  <tbody>\n",
       "    <tr>\n",
       "      <th>count</th>\n",
       "      <td>511.000000</td>\n",
       "      <td>511.000000</td>\n",
       "      <td>511.000000</td>\n",
       "      <td>511.000000</td>\n",
       "      <td>511.000000</td>\n",
       "      <td>511.000000</td>\n",
       "    </tr>\n",
       "    <tr>\n",
       "      <th>mean</th>\n",
       "      <td>2022.000000</td>\n",
       "      <td>3346.679061</td>\n",
       "      <td>141.520548</td>\n",
       "      <td>9.930705</td>\n",
       "      <td>64.630137</td>\n",
       "      <td>10.342642</td>\n",
       "    </tr>\n",
       "    <tr>\n",
       "      <th>std</th>\n",
       "      <td>0.816497</td>\n",
       "      <td>2796.655584</td>\n",
       "      <td>127.169730</td>\n",
       "      <td>6.281053</td>\n",
       "      <td>63.296084</td>\n",
       "      <td>6.249298</td>\n",
       "    </tr>\n",
       "    <tr>\n",
       "      <th>min</th>\n",
       "      <td>2021.000000</td>\n",
       "      <td>0.000000</td>\n",
       "      <td>0.000000</td>\n",
       "      <td>0.000000</td>\n",
       "      <td>0.000000</td>\n",
       "      <td>0.000000</td>\n",
       "    </tr>\n",
       "    <tr>\n",
       "      <th>25%</th>\n",
       "      <td>2021.000000</td>\n",
       "      <td>1089.500000</td>\n",
       "      <td>47.000000</td>\n",
       "      <td>6.500000</td>\n",
       "      <td>21.000000</td>\n",
       "      <td>6.585000</td>\n",
       "    </tr>\n",
       "    <tr>\n",
       "      <th>50%</th>\n",
       "      <td>2022.000000</td>\n",
       "      <td>2573.000000</td>\n",
       "      <td>97.000000</td>\n",
       "      <td>8.800000</td>\n",
       "      <td>44.000000</td>\n",
       "      <td>9.300000</td>\n",
       "    </tr>\n",
       "    <tr>\n",
       "      <th>75%</th>\n",
       "      <td>2023.000000</td>\n",
       "      <td>4905.500000</td>\n",
       "      <td>219.000000</td>\n",
       "      <td>11.805000</td>\n",
       "      <td>89.500000</td>\n",
       "      <td>12.300000</td>\n",
       "    </tr>\n",
       "    <tr>\n",
       "      <th>max</th>\n",
       "      <td>2023.000000</td>\n",
       "      <td>11971.000000</td>\n",
       "      <td>714.000000</td>\n",
       "      <td>74.400000</td>\n",
       "      <td>450.000000</td>\n",
       "      <td>50.000000</td>\n",
       "    </tr>\n",
       "  </tbody>\n",
       "</table>\n",
       "</div>"
      ],
      "text/plain": [
       "              기준연도          재적학생        자퇴학생      자퇴학생비율    신입생_자퇴학생  \\\n",
       "count   511.000000    511.000000  511.000000  511.000000  511.000000   \n",
       "mean   2022.000000   3346.679061  141.520548    9.930705   64.630137   \n",
       "std       0.816497   2796.655584  127.169730    6.281053   63.296084   \n",
       "min    2021.000000      0.000000    0.000000    0.000000    0.000000   \n",
       "25%    2021.000000   1089.500000   47.000000    6.500000   21.000000   \n",
       "50%    2022.000000   2573.000000   97.000000    8.800000   44.000000   \n",
       "75%    2023.000000   4905.500000  219.000000   11.805000   89.500000   \n",
       "max    2023.000000  11971.000000  714.000000   74.400000  450.000000   \n",
       "\n",
       "       신입생_자퇴학생비율  \n",
       "count  511.000000  \n",
       "mean    10.342642  \n",
       "std      6.249298  \n",
       "min      0.000000  \n",
       "25%      6.585000  \n",
       "50%      9.300000  \n",
       "75%     12.300000  \n",
       "max     50.000000  "
      ]
     },
     "execution_count": 6,
     "metadata": {},
     "output_type": "execute_result"
    }
   ],
   "source": [
    "df.describe()"
   ]
  },
  {
   "cell_type": "code",
   "execution_count": 7,
   "id": "06afed8c",
   "metadata": {},
   "outputs": [
    {
     "data": {
      "text/plain": [
       "기준연도          0\n",
       "학교종류          0\n",
       "설립구분          0\n",
       "지역            0\n",
       "학교명           0\n",
       "재적학생          0\n",
       "자퇴학생          0\n",
       "자퇴학생비율        0\n",
       "신입생_자퇴학생      0\n",
       "신입생_자퇴학생비율    0\n",
       "dtype: int64"
      ]
     },
     "execution_count": 7,
     "metadata": {},
     "output_type": "execute_result"
    }
   ],
   "source": [
    "df.isna().sum()"
   ]
  },
  {
   "cell_type": "code",
   "execution_count": null,
   "id": "59eb7826",
   "metadata": {},
   "outputs": [],
   "source": []
  }
 ],
 "metadata": {
  "kernelspec": {
   "display_name": ".venv",
   "language": "python",
   "name": "python3"
  },
  "language_info": {
   "codemirror_mode": {
    "name": "ipython",
    "version": 3
   },
   "file_extension": ".py",
   "mimetype": "text/x-python",
   "name": "python",
   "nbconvert_exporter": "python",
   "pygments_lexer": "ipython3",
   "version": "3.11.9"
  }
 },
 "nbformat": 4,
 "nbformat_minor": 5
}
