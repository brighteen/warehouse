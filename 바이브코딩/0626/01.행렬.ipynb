{
 "cells": [
  {
   "cell_type": "code",
   "execution_count": 2,
   "id": "659d9b02",
   "metadata": {},
   "outputs": [],
   "source": [
    "import numpy as np\n",
    "import matplotlib.pyplot as plt"
   ]
  },
  {
   "cell_type": "code",
   "execution_count": 3,
   "id": "38717a8a",
   "metadata": {},
   "outputs": [
    {
     "name": "stdout",
     "output_type": "stream",
     "text": [
      "a:\n",
      "[[ 0  1  2  3  4  5  6  7  8  9]\n",
      " [10 11 12 13 14 15 16 17 18 19]\n",
      " [20 21 22 23 24 25 26 27 28 29]\n",
      " [30 31 32 33 34 35 36 37 38 39]\n",
      " [40 41 42 43 44 45 46 47 48 49]\n",
      " [50 51 52 53 54 55 56 57 58 59]]\n",
      ", shape: (6, 10)\n",
      "\n",
      "부분 행렬 (2~4행, 0~4열):\n",
      "[[10 11 12 13 14]\n",
      " [20 21 22 23 24]\n",
      " [30 31 32 33 34]]\n",
      ", shape: (3, 5)\n",
      "\n",
      "난수 행렬 b:\n",
      "[[0.34156413 0.86016994 0.48946066 0.73681987 0.24246561 0.46676208\n",
      "  0.65456767 0.82139836 0.06263029 0.45551607]\n",
      " [0.05280329 0.06769021 0.94520685 0.44870214 0.75481644 0.12045572\n",
      "  0.53604608 0.25648211 0.27859218 0.33725241]\n",
      " [0.60290121 0.55600332 0.70509423 0.09085716 0.62708813 0.20061004\n",
      "  0.65354778 0.21019308 0.41131629 0.58152996]\n",
      " [0.23488887 0.92242718 0.55110222 0.30469903 0.04823356 0.50790915\n",
      "  0.15587449 0.27718642 0.82525189 0.24549532]\n",
      " [0.78981085 0.64839763 0.12943185 0.94388305 0.54801233 0.33424881\n",
      "  0.29483462 0.59207321 0.04938176 0.38795167]\n",
      " [0.24622615 0.78613162 0.98841803 0.35240582 0.69256895 0.13440778\n",
      "  0.5594811  0.20140844 0.95132083 0.98926748]]\n",
      ", shape: (6, 10)\n",
      "\n",
      "대각 행렬 c:\n",
      "[[0 0 0 0]\n",
      " [0 1 0 0]\n",
      " [0 0 2 0]\n",
      " [0 0 0 3]]\n",
      ", shape: (4, 4)\n"
     ]
    }
   ],
   "source": [
    "a = np.arange(60).reshape(6, 10)\n",
    "print(f\"a:\\n{a}\\n, shape: {a.shape}\")\n",
    "\n",
    "submatrix = a[1:4, 0:5]\n",
    "print(f\"\\n부분 행렬 (2~4행, 0~4열):\\n{submatrix}\\n, shape: {submatrix.shape}\")\n",
    "\n",
    "# 난수 행렬\n",
    "b = np.random.rand(6, 10)\n",
    "print(f\"\\n난수 행렬 b:\\n{b}\\n, shape: {b.shape}\")\n",
    "\n",
    "# 대각 행렬\n",
    "c = np.diag(np.arange(4))\n",
    "print(f\"\\n대각 행렬 c:\\n{c}\\n, shape: {c.shape}\")"
   ]
  },
  {
   "cell_type": "code",
   "execution_count": 4,
   "id": "49d78fe8",
   "metadata": {},
   "outputs": [
    {
     "name": "stdout",
     "output_type": "stream",
     "text": [
      "[15  6 39], shape: (3,)\n",
      "\n",
      "행렬 A:\n",
      "[15  6 39]\n",
      ", shape: (3,)\n"
     ]
    }
   ],
   "source": [
    "# 사진의 행렬-벡터 곱셈 예제 구현\n",
    "s1 = 4\n",
    "s2 = 3\n",
    "v1 = np.array([3,0,6])\n",
    "v2 = np.array([1,2,5])\n",
    "\n",
    "print(f\"{s1 * v1 + s2 * v2}, shape: {(s1 * v1 + s2 * v2).shape}\")\n",
    "\n",
    "sv = np.array([s1, s2])\n",
    "mv = np.array([v1, v2])\n",
    "A = np.dot(sv, mv)\n",
    "print(f\"\\n행렬 A:\\n{A}\\n, shape: {A.shape}\")"
   ]
  },
  {
   "cell_type": "code",
   "execution_count": 5,
   "id": "745c63c9",
   "metadata": {},
   "outputs": [
    {
     "data": {
      "image/png": "[encoded data removed]",
      "text/plain": [
       "<Figure size 1000x500 with 2 Axes>"
      ]
     },
     "metadata": {},
     "output_type": "display_data"
    }
   ],
   "source": [
    "# 행렬과 벡터 정의\n",
    "M = np.array([[2, 3], [2, 1]])\n",
    "x = np.array([1, 1.5])\n",
    "v = np.array([1.5, 1])\n",
    "\n",
    "# 행렬-벡터 곱셈\n",
    "Mx = M @ x\n",
    "Mv = M @ v\n",
    "\n",
    "# 시각화\n",
    "fig, axs = plt.subplots(1, 2, figsize=(10, 5))\n",
    "\n",
    "# 첫 번째 그래프: x와 Mx\n",
    "axs[0].quiver(0, 0, x[0], x[1], angles='xy', scale_units='xy', scale=1, color='blue', label='x')\n",
    "axs[0].quiver(0, 0, Mx[0], Mx[1], angles='xy', scale_units='xy', scale=1, color='red', label='Mx')\n",
    "axs[0].set_xlim(-4, 10)\n",
    "axs[0].set_ylim(-4, 10)\n",
    "axs[0].set_aspect('equal')\n",
    "axs[0].legend()\n",
    "axs[0].set_title('Mx')\n",
    "axs[0].grid()\n",
    "\n",
    "# 두 번째 그래프: v와 Mv\n",
    "axs[1].quiver(0, 0, v[0], v[1], angles='xy', scale_units='xy', scale=1, color='blue', label='v')\n",
    "axs[1].quiver(0, 0, Mv[0], Mv[1], angles='xy', scale_units='xy', scale=1, color='green', label='Mv')\n",
    "axs[1].set_xlim(-4, 10)\n",
    "axs[1].set_ylim(-4, 10)\n",
    "axs[1].set_aspect('equal')\n",
    "axs[1].legend()\n",
    "axs[1].set_title('Mv')\n",
    "axs[1].grid()\n",
    "\n",
    "plt.tight_layout()\n",
    "plt.show()"
   ]
  },
  {
   "cell_type": "code",
   "execution_count": 12,
   "id": "ec431e12",
   "metadata": {},
   "outputs": [
    {
     "name": "stdout",
     "output_type": "stream",
     "text": [
      "\n",
      "행렬 A:\n",
      "[[3 0 4]\n",
      " [9 8 3]]\n",
      ", shape: (2, 3)\n",
      "\n",
      "행렬 A의 전치 행렬:\n",
      "[[3 9]\n",
      " [0 8]\n",
      " [4 3]]\n",
      ", shape: (3, 2)\n",
      "\n",
      "행렬 A의 전치 행렬을 다시 전치한 결과:\n",
      "[[3 0 4]\n",
      " [9 8 3]]\n",
      ", shape: (2, 3)\n"
     ]
    }
   ],
   "source": [
    "A = np.array([[3,0,4], [9,8,3]])\n",
    "print(f\"\\n행렬 A:\\n{A}\\n, shape: {A.shape}\")\n",
    "\n",
    "A_transpose = A.T\n",
    "print(f\"\\n행렬 A의 전치 행렬:\\n{A_transpose}\\n, shape: {A_transpose.shape}\")\n",
    "\n",
    "A_transpose_twice =  A_transpose.T\n",
    "print(f\"\\n행렬 A의 전치 행렬을 다시 전치한 결과:\\n{A_transpose_twice}\\n, shape: {A_transpose_twice.shape}\")"
   ]
  },
  {
   "cell_type": "code",
   "execution_count": 19,
   "id": "1e5a9dd7",
   "metadata": {},
   "outputs": [
    {
     "name": "stdout",
     "output_type": "stream",
     "text": [
      "\n",
      "왼쪽 표현식의 결과:\n",
      "[[ 8 16]\n",
      " [11 23]]\n",
      ", shape: (2, 2)\n",
      "\n",
      "오른쪽 표현식의 결과:\n",
      "[[ 8 16]\n",
      " [11 23]]\n",
      ", shape: (2, 2)\n",
      "\n",
      "True\n"
     ]
    },
    {
     "data": {
      "text/plain": [
       "array([[ True,  True],\n",
       "       [ True,  True]])"
      ]
     },
     "execution_count": 19,
     "metadata": {},
     "output_type": "execute_result"
    }
   ],
   "source": [
    "A = np.array([[1, 2], [3, 4]])\n",
    "B = np.array([[0, 1], [2, 3]])\n",
    "C = np.array([[1, 0], [0, 1]])\n",
    "D = np.array([[2, 1], [0, 1]])\n",
    "\n",
    "# 곱셈 및 전치\n",
    "left = (A @ B @ C @ D).T\n",
    "print(f\"\\n왼쪽 표현식의 결과:\\n{left}\\n, shape: {left.shape}\")\n",
    "right = D.T @ C.T @ B.T @ A.T\n",
    "print(f\"\\n오른쪽 표현식의 결과:\\n{right}\\n, shape: {right.shape}\")\n",
    "\n",
    "# 판별\n",
    "print(f\"\\n{np.allclose(left, right)}\")\n",
    "left == right"
   ]
  },
  {
   "cell_type": "code",
   "execution_count": 20,
   "id": "5afbadb1",
   "metadata": {},
   "outputs": [
    {
     "name": "stdout",
     "output_type": "stream",
     "text": [
      "True\n",
      "False\n",
      "True\n",
      "False\n"
     ]
    }
   ],
   "source": [
    "def is_symmetric(matrix):\n",
    "    # 대칭행렬은 반드시 정방행렬이어야 함\n",
    "    if matrix.shape[0] != matrix.shape[1]:\n",
    "        return False\n",
    "    # 전치와 자기 자신이 같은지 비교\n",
    "    return np.allclose(matrix, matrix.T)\n",
    "\n",
    "# 테스트 예시\n",
    "A = np.array([[1, 2, 3],\n",
    "              [2, 5, 6],\n",
    "              [3, 6, 9]])  # 대칭행렬\n",
    "\n",
    "B = np.array([[1, 2, 3],\n",
    "              [4, 5, 6]])  # 비정방행렬\n",
    "\n",
    "C = np.array([[1, 2],\n",
    "              [2, 1]])  # 대칭행렬\n",
    "\n",
    "D = np.array([[0, 1],\n",
    "              [2, 3]])  # 비대칭 정방행렬\n",
    "\n",
    "print(is_symmetric(A))  # True\n",
    "print(is_symmetric(B))  # False\n",
    "print(is_symmetric(C))  # True\n",
    "print(is_symmetric(D))  # False\n"
   ]
  },
  {
   "cell_type": "code",
   "execution_count": 23,
   "id": "1c944a98",
   "metadata": {},
   "outputs": [
    {
     "name": "stdout",
     "output_type": "stream",
     "text": [
      "행렬의 각 행을 공백으로 구분하여 입력하세요 (예: 1 2 3):\n",
      "입력된 행렬:\n",
      "[[1.]\n",
      " [2.]]\n",
      ", shape: (2, 1)\n",
      "대칭행렬 여부: False\n"
     ]
    }
   ],
   "source": [
    "import numpy as np\n",
    "\n",
    "def is_symmetric(matrix):\n",
    "    # 정방행렬(행과 열의 수가 같음)인지 확인\n",
    "    if matrix.shape[0] != matrix.shape[1]:\n",
    "        return False\n",
    "    # 대칭행렬: 전치와 자기 자신이 같은지 확인\n",
    "    return np.allclose(matrix, matrix.T)\n",
    "\n",
    "# 사용자 입력을 받아 행렬 생성\n",
    "def input_matrix():\n",
    "    n = int(input(\"행렬의 행(=열) 수를 입력하세요: \"))\n",
    "    print(\"행렬의 각 행을 공백으로 구분하여 입력하세요 (예: 1 2 3):\")\n",
    "    rows = []\n",
    "    for i in range(n):\n",
    "        row = list(map(float, input(f\"{i+1}번째 행: \").split()))\n",
    "        rows.append(row)\n",
    "    mat = np.array(rows)\n",
    "    print(f\"입력된 행렬:\\n{mat}\\n, shape: {mat.shape}\")\n",
    "    return mat\n",
    "\n",
    "# 실행 예시\n",
    "if __name__ == \"__main__\":\n",
    "    mat = input_matrix()\n",
    "    result = is_symmetric(mat)\n",
    "    print(\"대칭행렬 여부:\", result)\n"
   ]
  },
  {
   "cell_type": "code",
   "execution_count": 24,
   "id": "16bf4310",
   "metadata": {},
   "outputs": [
    {
     "name": "stdout",
     "output_type": "stream",
     "text": [
      "정방행렬 A 실험 결과:\n",
      "A^T A:\n",
      "[[10 14]\n",
      " [14 20]]\n",
      "\n",
      "A A^T:\n",
      "[[ 5 11]\n",
      " [11 25]]\n",
      "\n",
      "A^T A is square:\n",
      "True\n",
      "\n",
      "A^T A is symmetric:\n",
      "True\n",
      "\n",
      "A A^T is square:\n",
      "True\n",
      "\n",
      "A A^T is symmetric:\n",
      "True\n",
      "\n",
      "비정방행렬 A 실험 결과:\n",
      "A^T A:\n",
      "[[17 22 27]\n",
      " [22 29 36]\n",
      " [27 36 45]]\n",
      "\n",
      "A A^T:\n",
      "[[14 32]\n",
      " [32 77]]\n",
      "\n",
      "A^T A is square:\n",
      "True\n",
      "\n",
      "A^T A is symmetric:\n",
      "True\n",
      "\n",
      "A A^T is square:\n",
      "True\n",
      "\n",
      "A A^T is symmetric:\n",
      "True\n",
      "\n"
     ]
    }
   ],
   "source": [
    "# 임의의 행렬 A (정방, 비정방 모두 실험)\n",
    "A1 = np.array([[1, 2], [3, 4]])        # 정방행렬\n",
    "A2 = np.array([[1, 2, 3], [4, 5, 6]])  # 비정방행렬\n",
    "\n",
    "def check_symmetric_product(A):\n",
    "    At = A.T\n",
    "    AtA = At @ A\n",
    "    AAt = A @ At\n",
    "    # 대칭성 확인\n",
    "    is_AtA_symmetric = np.allclose(AtA, AtA.T)\n",
    "    is_AAt_symmetric = np.allclose(AAt, AAt.T)\n",
    "    # 정방성 확인\n",
    "    is_AtA_square = AtA.shape[0] == AtA.shape[1]\n",
    "    is_AAt_square = AAt.shape[0] == AAt.shape[1]\n",
    "    return {\n",
    "        \"A^T A\": AtA,\n",
    "        \"A A^T\": AAt,\n",
    "        \"A^T A is square\": is_AtA_square,\n",
    "        \"A^T A is symmetric\": is_AtA_symmetric,\n",
    "        \"A A^T is square\": is_AAt_square,\n",
    "        \"A A^T is symmetric\": is_AAt_symmetric\n",
    "    }\n",
    "\n",
    "# 정방행렬 실험\n",
    "result1 = check_symmetric_product(A1)\n",
    "# 비정방행렬 실험\n",
    "result2 = check_symmetric_product(A2)\n",
    "\n",
    "print(\"정방행렬 A 실험 결과:\")\n",
    "for k, v in result1.items():\n",
    "    print(f\"{k}:\\n{v}\\n\")\n",
    "print(\"비정방행렬 A 실험 결과:\")\n",
    "for k, v in result2.items():\n",
    "    print(f\"{k}:\\n{v}\\n\")\n"
   ]
  },
  {
   "cell_type": "code",
   "execution_count": null,
   "id": "eb6259af",
   "metadata": {},
   "outputs": [],
   "source": []
  }
 ],
 "metadata": {
  "kernelspec": {
   "display_name": ".venv",
   "language": "python",
   "name": "python3"
  },
  "language_info": {
   "codemirror_mode": {
    "name": "ipython",
    "version": 3
   },
   "file_extension": ".py",
   "mimetype": "text/x-python",
   "name": "python",
   "nbconvert_exporter": "python",
   "pygments_lexer": "ipython3",
   "version": "3.11.9"
  }
 },
 "nbformat": 4,
 "nbformat_minor": 5
}
