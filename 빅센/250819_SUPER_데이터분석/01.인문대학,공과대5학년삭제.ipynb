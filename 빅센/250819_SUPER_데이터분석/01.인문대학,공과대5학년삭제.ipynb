{
 "cells": [
  {
   "cell_type": "code",
   "execution_count": 1,
   "id": "1a97c357",
   "metadata": {},
   "outputs": [
    {
     "name": "stdout",
     "output_type": "stream",
     "text": [
      "'SUPER 핵심역량 진단평가.xlsx' 파일에서 'only_data' 시트를 성공적으로 불러왔습니다.\n",
      "'인문대학'이 '인문콘텐츠대학'으로 변경되었습니다.\n",
      "5학년 데이터 19건이 삭제되었습니다.\n",
      "\n",
      "데이터 처리가 완료되어 'SUPER_data_cleaned.xlsx' 파일로 저장되었습니다.\n"
     ]
    }
   ],
   "source": [
    "import pandas as pd\n",
    "\n",
    "# 원본 엑셀 파일 경로와 시트 이름 지정\n",
    "source_file = 'SUPER 핵심역량 진단평가.xlsx'\n",
    "sheet_name = 'only_data'\n",
    "\n",
    "# 저장할 새로운 엑셀 파일 이름 지정\n",
    "output_file = 'SUPER_data_cleaned.xlsx'\n",
    "\n",
    "try:\n",
    "    # 'only_data' 시트의 데이터를 데이터프레임으로 불러오기\n",
    "    df = pd.read_excel(source_file, sheet_name=sheet_name)\n",
    "    print(f\"'{source_file}' 파일에서 '{sheet_name}' 시트를 성공적으로 불러왔습니다.\")\n",
    "\n",
    "    # 1. '인문대학' 명칭을 '인문콘텐츠대학'으로 통일\n",
    "    df['대학'] = df['대학'].replace('인문대학', '인문콘텐츠대학')\n",
    "    print(\"'인문대학'이 '인문콘텐츠대학'으로 변경되었습니다.\")\n",
    "\n",
    "    # 2. '학년'이 5인 데이터 삭제\n",
    "    original_rows = len(df)\n",
    "    df = df[df['학년'] != 5].copy()\n",
    "    deleted_rows = original_rows - len(df)\n",
    "    print(f\"5학년 데이터 {deleted_rows}건이 삭제되었습니다.\")\n",
    "\n",
    "    # 처리된 데이터를 새로운 엑셀 파일로 저장 (인덱스는 저장하지 않음)\n",
    "    df.to_excel(output_file, index=False)\n",
    "    \n",
    "    print(f\"\\n데이터 처리가 완료되어 '{output_file}' 파일로 저장되었습니다.\")\n",
    "\n",
    "except FileNotFoundError:\n",
    "    print(f\"오류: '{source_file}' 파일을 찾을 수 없습니다. 파일 경로를 확인해주세요.\")\n",
    "except Exception as e:\n",
    "    print(f\"오류가 발생했습니다: {e}\")"
   ]
  },
  {
   "cell_type": "code",
   "execution_count": 3,
   "id": "eaa84b61",
   "metadata": {},
   "outputs": [
    {
     "name": "stdout",
     "output_type": "stream",
     "text": [
      "'SUPER_data_cleaned.xlsx' 파일을 성공적으로 불러왔습니다.\n",
      "\n",
      "[처리된 데이터 샘플]\n",
      "    학년도  학기         학번       대학  학년    S1    S2    S3    U1   U2    U3   P1  \\\n",
      "0  2019   1  605433011  인문콘텐츠대학   3  4.25  4.25  4.00  3.00  3.8  3.75  3.8   \n",
      "1  2019   2  605433011  인문콘텐츠대학   3  3.75  4.00  3.33  3.25  3.8  4.00  3.8   \n",
      "2  2018   1  605433014  인문콘텐츠대학   4  3.75  3.50  3.33  3.00  3.0  3.00  3.0   \n",
      "3  2020   1  605433014  인문콘텐츠대학   4  4.00  4.00  3.17  3.75  3.2  3.25  3.0   \n",
      "4  2020   2  605433014  인문콘텐츠대학   4  4.00  3.75  3.00  3.00  3.2  3.50  3.2   \n",
      "\n",
      "     P2    P3    E1    E2    E3    R1   R2   R3  \n",
      "0  2.67  4.00  2.50  3.00  3.25  4.14  3.2  3.8  \n",
      "1  3.00  3.67  3.25  3.25  3.25  3.29  3.2  3.0  \n",
      "2  3.00  3.17  3.00  3.00  3.00  3.00  3.0  3.0  \n",
      "3  2.67  4.00  3.25  2.75  2.50  2.86  2.4  3.0  \n",
      "4  3.00  3.50  3.25  2.50  3.00  3.29  3.0  3.2  \n"
     ]
    }
   ],
   "source": [
    "import pandas as pd\n",
    "\n",
    "# 처리된 엑셀 파일 경로\n",
    "cleaned_file = 'SUPER_data_cleaned.xlsx'\n",
    "\n",
    "try:\n",
    "    # 새로운 엑셀 파일을 데이터프레임으로 불러오기\n",
    "    df_cleaned = pd.read_excel(cleaned_file)\n",
    "    print(f\"'{cleaned_file}' 파일을 성공적으로 불러왔습니다.\")\n",
    "    \n",
    "    # 불러온 데이터 확인 (상위 5개 행 출력)\n",
    "    print(\"\\n[처리된 데이터 샘플]\")\n",
    "    print(df_cleaned.head())\n",
    "    \n",
    "except FileNotFoundError:\n",
    "    print(f\"오류: '{cleaned_file}' 파일을 찾을 수 없습니다. 먼저 위 저장 코드를 실행했는지 확인해주세요.\")\n",
    "except Exception as e:\n",
    "    print(f\"오류가 발생했습니다: {e}\")"
   ]
  },
  {
   "cell_type": "code",
   "execution_count": null,
   "id": "9ea656f3",
   "metadata": {},
   "outputs": [],
   "source": []
  }
 ],
 "metadata": {
  "kernelspec": {
   "display_name": ".venv (3.11.9)",
   "language": "python",
   "name": "python3"
  },
  "language_info": {
   "codemirror_mode": {
    "name": "ipython",
    "version": 3
   },
   "file_extension": ".py",
   "mimetype": "text/x-python",
   "name": "python",
   "nbconvert_exporter": "python",
   "pygments_lexer": "ipython3",
   "version": "3.11.9"
  }
 },
 "nbformat": 4,
 "nbformat_minor": 5
}
